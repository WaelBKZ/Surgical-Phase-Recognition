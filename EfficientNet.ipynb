{
 "cells": [
  {
   "cell_type": "code",
   "execution_count": 1,
   "id": "2381b70f",
   "metadata": {},
   "outputs": [],
   "source": [
    "from __future__ import print_function, division\n",
    "\n",
    "import torch\n",
    "import torch.nn as nn\n",
    "import torch.optim as optim\n",
    "from torch.optim import lr_scheduler\n",
    "import torch.backends.cudnn as cudnn\n",
    "import numpy as np\n",
    "import torchvision\n",
    "from torchvision import datasets, models, transforms\n",
    "import matplotlib.pyplot as plt\n",
    "import time\n",
    "import os\n",
    "import copy\n",
    "from torch.utils.data import DataLoader\n",
    "cudnn.benchmark = True\n",
    "plt.ion()   # interactive mode\n",
    "from utils.ImagesDataset import ImagesDataset\n",
    "from tqdm import tqdm\n",
    "CLASSES=14"
   ]
  },
  {
   "cell_type": "markdown",
   "id": "c0ee6811",
   "metadata": {},
   "source": [
    "# Dataset"
   ]
  },
  {
   "cell_type": "code",
   "execution_count": 2,
   "id": "b8f8d867",
   "metadata": {},
   "outputs": [
    {
     "data": {
      "text/plain": [
       "66829"
      ]
     },
     "execution_count": 2,
     "metadata": {},
     "output_type": "execute_result"
    }
   ],
   "source": [
    "data_transforms = {\n",
    "    'train': transforms.Compose([\n",
    "        transforms.RandomHorizontalFlip(),\n",
    "        transforms.RandomResizedCrop(224, scale=(0.9, 1.0), ratio=(0.9, 1.1)),\n",
    "        transforms.RandomRotation(20),\n",
    "        transforms.RandomAdjustSharpness(1.5),\n",
    "        transforms.Normalize(mean=[0.485, 0.456, 0.406],std=[0.229, 0.224, 0.225])\n",
    "    ]),\n",
    "    'val': transforms.Compose([transforms.Normalize(mean=[0.485, 0.456, 0.406],std=[0.229, 0.224, 0.225])]),\n",
    "}\n",
    "train_set = ImagesDataset(data_transforms['train'],noval=False)\n",
    "val_set = ImagesDataset(data_transforms['val'],train=False)\n",
    "val_set.__len__()"
   ]
  },
  {
   "cell_type": "code",
   "execution_count": 3,
   "id": "8564a6d4",
   "metadata": {},
   "outputs": [],
   "source": [
    "device = torch.device(\"cuda:0\" if torch.cuda.is_available() else  \"cpu\")"
   ]
  },
  {
   "cell_type": "markdown",
   "id": "9925c12f",
   "metadata": {},
   "source": [
    "### dataloader"
   ]
  },
  {
   "cell_type": "code",
   "execution_count": 4,
   "id": "6738d29f",
   "metadata": {},
   "outputs": [],
   "source": [
    "bs=128\n",
    "dataset_sizes = {'train':train_set.__len__(),'val': val_set.__len__()}\n",
    "train_loader = DataLoader(dataset=train_set,\n",
    "                          batch_size=bs,\n",
    "                          shuffle=True,\n",
    "                          num_workers=4)\n",
    "val_loader = DataLoader(dataset=val_set,\n",
    "                          batch_size=bs,\n",
    "                          shuffle=True,\n",
    "                          num_workers=4)\n",
    "dataloaders={'train':train_loader,'val':val_loader}"
   ]
  },
  {
   "cell_type": "markdown",
   "id": "456ab646",
   "metadata": {},
   "source": [
    "# Training"
   ]
  },
  {
   "cell_type": "code",
   "execution_count": 5,
   "id": "9b0ae379",
   "metadata": {},
   "outputs": [],
   "source": [
    "def train_model(model, criterion, optimizer, scheduler, num_epochs=25):\n",
    "    since = time.time()\n",
    "    hist=[]\n",
    "    best_model_wts = copy.deepcopy(model.state_dict())\n",
    "    best_acc = 0.0\n",
    "   \n",
    "    for epoch in range(num_epochs):\n",
    "        print(f'Epoch {epoch}/{num_epochs - 1}')\n",
    "        print('-' * 10)\n",
    "\n",
    "        # Each epoch has a training and validation phase\n",
    "        for phase in ['train', 'val']:\n",
    "            if phase == 'train':\n",
    "                model.train()  # Set model to training mode\n",
    "            else:\n",
    "                model.eval()   # Set model to evaluate mode\n",
    "\n",
    "            running_loss = 0.0\n",
    "            running_corrects = 0\n",
    "\n",
    "            # Iterate over data.\n",
    "            with tqdm(dataloaders[phase], unit=\"batch\") as tepoch:\n",
    "                batches=0\n",
    "                for inputs, labels in tepoch:\n",
    "                    tepoch.set_description(f\"Epoch {epoch}\")\n",
    "                    inputs = inputs.to(device)\n",
    "                    labels = labels.to(device)\n",
    "\n",
    "                    # zero the parameter gradients\n",
    "                    optimizer.zero_grad()\n",
    "                    \n",
    "                    # forward\n",
    "                    # track history if only in train\n",
    "                    with torch.set_grad_enabled(phase == 'train'):\n",
    "                        outputs = model(inputs)\n",
    "                        _, preds = torch.max(outputs, 1)\n",
    "                        #print('out',outputs)\n",
    "                        #print('labels',labels)\n",
    "                        loss = criterion(outputs, labels)\n",
    "\n",
    "                        # backward + optimize only if in training phase\n",
    "                        if phase == 'train':\n",
    "                            loss.backward()\n",
    "                            optimizer.step()\n",
    "\n",
    "                    # statistics\n",
    "                    running_loss += loss.item() * inputs.size(0)\n",
    "                    running_corrects += torch.sum(preds == labels.data)\n",
    "                    batches+=1                      \n",
    "                    tepoch.set_postfix(loss=running_loss/(batches*bs), accuracy=100. * running_corrects.item()/(batches*bs))\n",
    "                    hist.append([running_loss/(batches*bs),100. * running_corrects.item()/(batches*bs)])\n",
    "            if phase == 'train':\n",
    "                scheduler.step()\n",
    "\n",
    "            epoch_loss = running_loss / dataset_sizes[phase]\n",
    "            epoch_acc = running_corrects.double() / dataset_sizes[phase]\n",
    "\n",
    "            print(f'{phase} Loss: {epoch_loss:.4f} Acc: {epoch_acc:.4f}')\n",
    "\n",
    "            # deep copy the model\n",
    "            if phase == 'val' and epoch_acc > best_acc:\n",
    "                best_acc = epoch_acc\n",
    "                best_model_wts = copy.deepcopy(model.state_dict())\n",
    "\n",
    "        print()\n",
    "\n",
    "    time_elapsed = time.time() - since\n",
    "    print(f'Training complete in {time_elapsed // 60:.0f}m {time_elapsed % 60:.0f}s')\n",
    "    print(f'Best val Acc: {best_acc:4f}')\n",
    "\n",
    "    # load best model weights\n",
    "    model.load_state_dict(best_model_wts)\n",
    "    return model,hist"
   ]
  },
  {
   "cell_type": "markdown",
   "id": "51d47889",
   "metadata": {},
   "source": [
    "### setup"
   ]
  },
  {
   "cell_type": "code",
   "execution_count": 10,
   "id": "a5f78ec4",
   "metadata": {},
   "outputs": [
    {
     "name": "stderr",
     "output_type": "stream",
     "text": [
      "Downloading: \"https://download.pytorch.org/models/efficientnet_b0_rwightman-3dd342df.pth\" to /home/ecbm4040/.cache/torch/hub/checkpoints/efficientnet_b0_rwightman-3dd342df.pth\n"
     ]
    },
    {
     "data": {
      "application/vnd.jupyter.widget-view+json": {
       "model_id": "c02562836a664ba7bd7df4c8c618e1ce",
       "version_major": 2,
       "version_minor": 0
      },
      "text/plain": [
       "  0%|          | 0.00/20.5M [00:00<?, ?B/s]"
      ]
     },
     "metadata": {},
     "output_type": "display_data"
    }
   ],
   "source": [
    "model_ft = models.efficientnet_b0(pretrained=True)\n",
    "\n",
    "model_ft.classifier[1] = nn.Linear(in_features=1280, out_features=CLASSES)\n",
    "\n",
    "model_ft = model_ft.to(device)\n",
    "\n",
    "criterion = nn.CrossEntropyLoss()\n",
    "\n",
    "# Observe that all parameters are being optimized\n",
    "optimizer_ft = optim.SGD(model_ft.parameters(), lr=0.001, momentum=0.9,weight_decay=1e-4)\n",
    "\n",
    "# Decay LR by a factor of 0.1 every 2 epochs\n",
    "exp_lr_scheduler = lr_scheduler.StepLR(optimizer_ft, step_size=2, gamma=0.1)"
   ]
  },
  {
   "cell_type": "code",
   "execution_count": 11,
   "id": "40616b26",
   "metadata": {},
   "outputs": [
    {
     "name": "stdout",
     "output_type": "stream",
     "text": [
      "Epoch 0/3\n",
      "----------\n"
     ]
    },
    {
     "name": "stderr",
     "output_type": "stream",
     "text": [
      "Epoch 0: 100%|███████████████████████████████████| 1159/1159 [12:52<00:00,  1.50batch/s, accuracy=75.4, loss=0.793]\n"
     ]
    },
    {
     "name": "stdout",
     "output_type": "stream",
     "text": [
      "train Loss: 0.7941 Acc: 0.7547\n"
     ]
    },
    {
     "name": "stderr",
     "output_type": "stream",
     "text": [
      "Epoch 0: 100%|█████████████████████████████████████| 523/523 [02:16<00:00,  3.82batch/s, accuracy=76.8, loss=0.683]\n"
     ]
    },
    {
     "name": "stdout",
     "output_type": "stream",
     "text": [
      "val Loss: 0.6840 Acc: 0.7697\n",
      "\n",
      "Epoch 1/3\n",
      "----------\n"
     ]
    },
    {
     "name": "stderr",
     "output_type": "stream",
     "text": [
      "Epoch 1: 100%|████████████████████████████████████| 1159/1159 [12:47<00:00,  1.51batch/s, accuracy=85.7, loss=0.42]\n"
     ]
    },
    {
     "name": "stdout",
     "output_type": "stream",
     "text": [
      "train Loss: 0.4208 Acc: 0.8582\n"
     ]
    },
    {
     "name": "stderr",
     "output_type": "stream",
     "text": [
      "Epoch 1: 100%|█████████████████████████████████████| 523/523 [02:14<00:00,  3.88batch/s, accuracy=78.7, loss=0.668]\n"
     ]
    },
    {
     "name": "stdout",
     "output_type": "stream",
     "text": [
      "val Loss: 0.6690 Acc: 0.7887\n",
      "\n",
      "Epoch 2/3\n",
      "----------\n"
     ]
    },
    {
     "name": "stderr",
     "output_type": "stream",
     "text": [
      "Epoch 2: 100%|███████████████████████████████████| 1159/1159 [12:46<00:00,  1.51batch/s, accuracy=88.1, loss=0.349]\n"
     ]
    },
    {
     "name": "stdout",
     "output_type": "stream",
     "text": [
      "train Loss: 0.3491 Acc: 0.8820\n"
     ]
    },
    {
     "name": "stderr",
     "output_type": "stream",
     "text": [
      "Epoch 2: 100%|█████████████████████████████████████| 523/523 [02:14<00:00,  3.89batch/s, accuracy=78.5, loss=0.672]\n"
     ]
    },
    {
     "name": "stdout",
     "output_type": "stream",
     "text": [
      "val Loss: 0.6728 Acc: 0.7868\n",
      "\n",
      "Epoch 3/3\n",
      "----------\n"
     ]
    },
    {
     "name": "stderr",
     "output_type": "stream",
     "text": [
      "Epoch 3: 100%|███████████████████████████████████| 1159/1159 [12:50<00:00,  1.50batch/s, accuracy=88.5, loss=0.338]\n"
     ]
    },
    {
     "name": "stdout",
     "output_type": "stream",
     "text": [
      "train Loss: 0.3384 Acc: 0.8862\n"
     ]
    },
    {
     "name": "stderr",
     "output_type": "stream",
     "text": [
      "Epoch 3: 100%|█████████████████████████████████████| 523/523 [02:14<00:00,  3.89batch/s, accuracy=78.6, loss=0.672]"
     ]
    },
    {
     "name": "stdout",
     "output_type": "stream",
     "text": [
      "val Loss: 0.6734 Acc: 0.7871\n",
      "\n",
      "Training complete in 60m 18s\n",
      "Best val Acc: 0.788744\n"
     ]
    },
    {
     "name": "stderr",
     "output_type": "stream",
     "text": [
      "\n"
     ]
    }
   ],
   "source": [
    "model_ft,hist = train_model(model_ft, criterion, optimizer_ft, exp_lr_scheduler,\n",
    "                       num_epochs=4)"
   ]
  },
  {
   "cell_type": "code",
   "execution_count": 12,
   "id": "bdca4398",
   "metadata": {},
   "outputs": [],
   "source": [
    "torch.save(model_ft.state_dict(), './models/efficientnet_b0.pt')\n",
    "import pickle\n",
    "with open('./models/efficientnet_b0_hist.pkl', 'wb') as f:\n",
    "    pickle.dump(hist, f)"
   ]
  },
  {
   "cell_type": "code",
   "execution_count": 16,
   "id": "a49fe1d9",
   "metadata": {},
   "outputs": [
    {
     "data": {
      "text/plain": [
       "Text(0.5, 1.0, 'Training metrics')"
      ]
     },
     "execution_count": 16,
     "metadata": {},
     "output_type": "execute_result"
    },
    {
     "data": {
      "image/png": "[encoded data removed]",
      "text/plain": [
       "<Figure size 576x576 with 1 Axes>"
      ]
     },
     "metadata": {
      "needs_background": "light"
     },
     "output_type": "display_data"
    }
   ],
   "source": [
    "\n",
    "with open('./models/resnet18_hist.pkl', 'rb') as f:\n",
    "    resnet18_hist = pickle.load(f)\n",
    "resnet18_hist\n",
    "\n",
    "losses=[i[0] for i in resnet18_hist]\n",
    "accs=[i[1] for i in resnet18_hist]\n",
    "#my bad mixed training and val metrics\n",
    "522\n",
    "train_accs=accs[0:1159]+accs[1159+523:1159*2+523]+accs[1159*2+523*2:1159*3+523*2]+accs[1159*3+523*3:1159*4+523*3]\n",
    "train_loss=losses[0:1159]+losses[1159+523:1159*2+523]+losses[1159*2+523*2:1159*3+523*2]+losses[1159*3+523*3:1159*4+523*3]\n",
    "\n",
    "val_accs=accs[1159:1159+523]+accs[1159*2+523:1159*2+523*2]+accs[1159*3+523*2:1159*3+523*3]+accs[1159*4+523*3:1159*4+523*4]\n",
    "val_loss=losses[1159:1159+523]+losses[1159*2+523:1159*2+523*2]+losses[1159*3+523*2:1159*3+523*3]+losses[1159*4+523*3:1159*4+523*4]\n",
    "\n",
    "plt.figure(figsize=(8, 8))\n",
    "plt.subplot(2, 1, 1)\n",
    "plt.plot(train_accs, label='Training Accuracy', color=\"blue\")\n",
    "plt.plot(train_loss, label='Training loss', color=\"r\")\n",
    "plt.legend(loc='lower right')\n",
    "plt.ylabel('Accuracy')\n",
    "plt.xlabel('Iterations')\n",
    "plt.title('Training metrics')"
   ]
  },
  {
   "cell_type": "code",
   "execution_count": 17,
   "id": "b0f21691",
   "metadata": {},
   "outputs": [
    {
     "data": {
      "text/plain": [
       "Text(0.5, 1.0, 'Validation metrics')"
      ]
     },
     "execution_count": 17,
     "metadata": {},
     "output_type": "execute_result"
    },
    {
     "data": {
      "image/png": "[encoded data removed]",
      "text/plain": [
       "<Figure size 576x576 with 1 Axes>"
      ]
     },
     "metadata": {
      "needs_background": "light"
     },
     "output_type": "display_data"
    }
   ],
   "source": [
    "plt.figure(figsize=(8, 8))\n",
    "plt.subplot(2, 1, 1)\n",
    "plt.plot(val_accs, label='Validation Accuracy', color=\"blue\")\n",
    "plt.plot(val_loss, label='Validation loss', color=\"r\")\n",
    "plt.legend(loc='lower right')\n",
    "plt.ylabel('Accuracy')\n",
    "plt.xlabel('Iterations')\n",
    "plt.title('Validation metrics')"
   ]
  },
  {
   "cell_type": "markdown",
   "id": "8be2a106",
   "metadata": {},
   "source": [
    "# Evaluation"
   ]
  },
  {
   "cell_type": "code",
   "execution_count": 6,
   "id": "60c4600a",
   "metadata": {},
   "outputs": [
    {
     "name": "stderr",
     "output_type": "stream",
     "text": [
      "progress: 100%|███████████████████████████████████████████████████████████████| 523/523 [02:10<00:00,  4.01batch/s]"
     ]
    },
    {
     "name": "stdout",
     "output_type": "stream",
     "text": [
      "Validation accuracy : 78.87444073680588 %\n",
      "Total inference time:  130.52370023727417 sec\n"
     ]
    },
    {
     "name": "stderr",
     "output_type": "stream",
     "text": [
      "\n"
     ]
    }
   ],
   "source": [
    "model_ft = models.efficientnet_b0(pretrained=True)\n",
    "\n",
    "model_ft.classifier[1] = nn.Linear(in_features=1280, out_features=CLASSES)\n",
    "model_ft = model_ft.to(device)\n",
    "\n",
    "\n",
    "#reloading saved weights\n",
    "model_ft.load_state_dict(torch.load('./models/efficientnet_b0.pt'))\n",
    "model_ft.eval()\n",
    "\n",
    "\n",
    "\n",
    "All_preds=[]\n",
    "All_probs=[]\n",
    "All_labels=[]\n",
    "#evaluation\n",
    "\n",
    "import time\n",
    "\n",
    "start = time.time()\n",
    "with torch.no_grad():\n",
    "    n_correct = 0\n",
    "    n_samples = 0\n",
    "    with tqdm(dataloaders['val'], unit=\"batch\") as tepoch:\n",
    "        for images, labels in tepoch:\n",
    "            tepoch.set_description('progress')\n",
    "            images = images.to(device)\n",
    "            labels = labels.to(device)\n",
    "            outputs = model_ft(images)\n",
    "            # max returns (value ,index)\n",
    "            _, predicted = torch.max(outputs.data, 1)\n",
    "            \n",
    "            prob = torch.nn.functional.softmax(outputs, dim=1)\n",
    "\n",
    "            top_p, top_class = prob.topk(1, dim = 1)\n",
    "            top_p=torch.reshape(top_p, (-1,))\n",
    "           \n",
    "            n_samples += labels.size(0)\n",
    "            n_correct += (predicted == labels).sum().item()\n",
    "            All_preds+=predicted.tolist()\n",
    "            All_labels+=labels.tolist()\n",
    "            All_probs+=top_p.tolist()\n",
    "        acc = 100.0 * n_correct / n_samples\n",
    "        print(f'Validation accuracy : {acc} %')\n",
    "end = time.time()\n",
    "print('Total inference time: ', end - start,'sec')"
   ]
  },
  {
   "cell_type": "code",
   "execution_count": 8,
   "id": "df37854c",
   "metadata": {},
   "outputs": [
    {
     "name": "stdout",
     "output_type": "stream",
     "text": [
      "inference time per sample for batch size 128: 1.953099705775549 ms\n",
      "micro f1 score: 0.7887444073680587\n",
      "macro f1 score: 0.48675598023556804\n"
     ]
    }
   ],
   "source": [
    "#inference time\n",
    "print('inference time per sample for batch size 128:',(end - start)*1000/val_set.__len__(),'ms')\n",
    "\n",
    "\n",
    "# F1 SCORES\n",
    "from sklearn.metrics import f1_score, roc_curve, auc,plot_roc_curve,RocCurveDisplay,roc_curve\n",
    "print('micro f1 score:',f1_score(All_labels, All_preds, average='micro'))\n",
    "print('macro f1 score:',f1_score(All_labels, All_preds, average='macro'))"
   ]
  }
 ],
 "metadata": {
  "kernelspec": {
   "display_name": "Python 3",
   "language": "python",
   "name": "python3"
  },
  "language_info": {
   "codemirror_mode": {
    "name": "ipython",
    "version": 3
   },
   "file_extension": ".py",
   "mimetype": "text/x-python",
   "name": "python",
   "nbconvert_exporter": "python",
   "pygments_lexer": "ipython3",
   "version": "3.7.12"
  }
 },
 "nbformat": 4,
 "nbformat_minor": 5
}
