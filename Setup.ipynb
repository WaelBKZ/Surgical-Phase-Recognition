{
 "cells": [
  {
   "cell_type": "markdown",
   "id": "c5ceea96",
   "metadata": {},
   "source": [
    "#### To create the gcp instance, this link is still relevant https://ecbme4040.github.io/2021_fall/EnvSetup/gcp.html\n",
    "#### just use the pytorch deep learning  boot drive by gcp\n",
    "#### T4 gpus may be more available in the `south america zone\n",
    "#### other param: drive size to at least 100, allow http, https traffic, and access to all apis"
   ]
  },
  {
   "cell_type": "markdown",
   "id": "82027930",
   "metadata": {},
   "source": [
    "## 1 clone git repo, change working directory"
   ]
  },
  {
   "cell_type": "markdown",
   "id": "7274050d",
   "metadata": {},
   "source": [
    "## 2 copy image dataset, and model weights"
   ]
  },
  {
   "cell_type": "code",
   "execution_count": 1,
   "id": "16c5980f",
   "metadata": {},
   "outputs": [
    {
     "name": "stdout",
     "output_type": "stream",
     "text": [
      "Copying gs://e6691-bucket-images/images.zip...\n",
      "| [1 files][ 12.1 GiB/ 12.1 GiB]   89.4 MiB/s                                   \n",
      "Operation completed over 1 objects/12.1 GiB.                                     \n"
     ]
    }
   ],
   "source": [
    "#!gsutil cp -r  gs://e6691-bucket-models/models ./\n",
    "!gsutil cp -r  gs://e6691-bucket-images ./"
   ]
  },
  {
   "cell_type": "markdown",
   "id": "d634b8b4",
   "metadata": {},
   "source": [
    "## 3 unzip images, it takes a couple of minutes"
   ]
  },
  {
   "cell_type": "code",
   "execution_count": 4,
   "id": "188e5ac9",
   "metadata": {},
   "outputs": [
    {
     "name": "stdout",
     "output_type": "stream",
     "text": [
      "unzip:  cannot find or open images.zip, images.zip.zip or images.zip.ZIP.\r\n"
     ]
    }
   ],
   "source": [
    "!cd e6691-bucket-images\n",
    "!unzip -qq images.zip"
   ]
  },
  {
   "cell_type": "markdown",
   "id": "615e520b",
   "metadata": {},
   "source": [
    "## To work with video data, copy from the video bucket"
   ]
  },
  {
   "cell_type": "code",
   "execution_count": null,
   "id": "98838ead",
   "metadata": {},
   "outputs": [],
   "source": [
    "!gsutil cp -r  gs://e6691-bucket-videos ./ #working dir is project dir"
   ]
  },
  {
   "cell_type": "markdown",
   "id": "6dc2e00e",
   "metadata": {},
   "source": [
    "### How to upload to the storage buckets\n",
    "\n",
    "Use the save commands the other way"
   ]
  },
  {
   "cell_type": "code",
   "execution_count": 1,
   "id": "189464b2",
   "metadata": {},
   "outputs": [
    {
     "name": "stdout",
     "output_type": "stream",
     "text": [
      "Copying file://./models/resnet18.pt [Content-Type=application/octet-stream]...\n",
      "| [1 files][ 42.7 MiB/ 42.7 MiB]                                                \n",
      "Operation completed over 1 objects/42.7 MiB.                                     \n"
     ]
    }
   ],
   "source": [
    "!gsutil cp -r   ./models  gs://e6691-bucket-models/models"
   ]
  }
 ],
 "metadata": {
  "kernelspec": {
   "display_name": "Python 3",
   "language": "python",
   "name": "python3"
  },
  "language_info": {
   "codemirror_mode": {
    "name": "ipython",
    "version": 3
   },
   "file_extension": ".py",
   "mimetype": "text/x-python",
   "name": "python",
   "nbconvert_exporter": "python",
   "pygments_lexer": "ipython3",
   "version": "3.7.12"
  }
 },
 "nbformat": 4,
 "nbformat_minor": 5
}
